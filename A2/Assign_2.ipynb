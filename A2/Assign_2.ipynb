{
  "cells": [
    {
      "cell_type": "code",
      "execution_count": null,
      "metadata": {
        "colab": {
          "base_uri": "https://localhost:8080/",
          "height": 239
        },
        "id": "-UPXMGpGSpWd",
        "outputId": "7d89fc18-2282-4cd0-de7a-49dcf02fa684"
      },
      "outputs": [],
      "source": [
        "import pandas as pd\n",
        "\n",
        "path = \"test.csv\"\n",
        "df = pd.read_csv(path)\n",
        "max = df['Discussion'].quantile(.1)\n",
        "#quantile will calculate the quantile of each row one by one\n",
        "\n",
        "#max\n",
        "df[df['Discussion'] < max]"
      ]
    },
    {
      "cell_type": "code",
      "execution_count": null,
      "metadata": {
        "colab": {
          "base_uri": "https://localhost:8080/",
          "height": 207
        },
        "id": "qRe_d65NBVy1",
        "outputId": "9a5a14e9-8f7c-447a-cfc2-c44558abd7c1"
      },
      "outputs": [],
      "source": [
        "# It will store the avg quantile as min\n",
        "min = df['AnnouncementsView'].quantile(0.08)\n",
        "\n",
        "# Crosscheck every row with min quantile\n",
        "df[df['AnnouncementsView'] < min]"
      ]
    },
    {
      "cell_type": "code",
      "execution_count": null,
      "metadata": {
        "colab": {
          "base_uri": "https://localhost:8080/"
        },
        "id": "AiQp1CKqBT3j",
        "outputId": "244423be-3d20-436c-9216-013fb4a8c37d"
      },
      "outputs": [],
      "source": [
        "max = 10\n",
        "\n",
        "# Crosscheck every row with max quantile\n",
        "df['AnnouncementsView'] < max"
      ]
    },
    {
      "cell_type": "code",
      "execution_count": null,
      "metadata": {
        "colab": {
          "base_uri": "https://localhost:8080/",
          "height": 1000
        },
        "id": "KCr45wNpPMKc",
        "outputId": "0795a303-a1b4-40e9-8405-e061a53df053"
      },
      "outputs": [],
      "source": [
        "import pandas as pd\n",
        "\n",
        "path = \"/content/test.csv\"\n",
        "df = pd.read_csv(path)\n",
        "\n",
        "# Fill missing values with 0\n",
        "df_new = df.fillna(0)\n",
        "df_new.head()\n"
      ]
    },
    {
      "cell_type": "code",
      "execution_count": null,
      "metadata": {
        "colab": {
          "base_uri": "https://localhost:8080/",
          "height": 1000
        },
        "id": "u_mWhqfa8NOD",
        "outputId": "3d644ffc-2f1d-41ef-b1c1-e72e8efba45d"
      },
      "outputs": [],
      "source": [
        "import pandas as pd\n",
        "\n",
        "path = \"/content/test.csv\"\n",
        "df = pd.read_csv(path)\n",
        "\n",
        "# Fill null value with Missing String\n",
        "# fillna = fill null\n",
        "df_new = df.fillna(\"Missing\")\n",
        "df_new.head()\n"
      ]
    },
    {
      "cell_type": "code",
      "execution_count": null,
      "metadata": {
        "colab": {
          "base_uri": "https://localhost:8080/",
          "height": 1000
        },
        "id": "pEywyE6tPRox",
        "outputId": "fe0f02d5-1a0b-4692-bcab-faa0844062fa"
      },
      "outputs": [],
      "source": [
        "# Fill missing value acordingly rows\n",
        "\n",
        "df_new = df.fillna({\n",
        "        'gender': \"Unknown\",\n",
        "        'NationalITy': 'Unknown',\n",
        "        'PlaceofBirth': 'Unknown',\n",
        "        'StageID': 'Unknown',\n",
        "        'GradeID' : 'Unknown',\n",
        "        'SectionID': 'A',\n",
        "        'Topic': 'IT',\n",
        "        'Semester': 'F',\n",
        "        'Relation': 'Unknown',\n",
        "        'ParentAnsweringSurvey': 'Na',\n",
        "        'ParentschoolSatisfaction': 'Unknown',\n",
        "        'Class': 'Na'\n",
        "    })\n",
        "df_new"
      ]
    },
    {
      "cell_type": "code",
      "execution_count": null,
      "metadata": {
        "colab": {
          "base_uri": "https://localhost:8080/",
          "height": 1000
        },
        "id": "BaEIDRZDQU6A",
        "outputId": "dfb58c0e-8af9-4286-8142-3b27bfb2b456"
      },
      "outputs": [],
      "source": [
        "# Carry forword previous row\n",
        "# Fill value acordingly previous value\n",
        "# ffill == forword fill\n",
        "\n",
        "df_new = df.fillna(method=\"ffill\")\n",
        "df_new"
      ]
    },
    {
      "cell_type": "code",
      "execution_count": null,
      "metadata": {
        "colab": {
          "base_uri": "https://localhost:8080/",
          "height": 1000
        },
        "id": "M8bxgZOQQd0h",
        "outputId": "76f23cec-2f81-49f2-ed67-8b22de400bc7"
      },
      "outputs": [],
      "source": [
        "# Carry backword next row\n",
        "# bfill == backword fill\n",
        "df_new = df.fillna(method=\"bfill\")\n",
        "df_new"
      ]
    },
    {
      "cell_type": "code",
      "execution_count": null,
      "metadata": {
        "colab": {
          "base_uri": "https://localhost:8080/",
          "height": 1000
        },
        "id": "qZO28CC5QsGO",
        "outputId": "e129d797-72d3-44e8-d22a-b6792cff6ca5"
      },
      "outputs": [],
      "source": [
        "# axis is either \"index\" or \"columns\"\n",
        "# Copy value vertically. from next column to previous column\n",
        "  \n",
        "df_new = df.fillna(method=\"bfill\", axis=\"columns\")\n",
        "df_new"
      ]
    },
    {
      "cell_type": "code",
      "execution_count": null,
      "metadata": {
        "colab": {
          "base_uri": "https://localhost:8080/",
          "height": 1000
        },
        "id": "4wwKRw0tQx8T",
        "outputId": "0c7a546b-85aa-4e42-8066-3ab778be60fe"
      },
      "outputs": [],
      "source": [
        "# It will limit the number of copy same value.\n",
        "# rest of cell remain NaN\n",
        "df_new = df.fillna(method=\"ffill\",limit=1)\n",
        "df_new"
      ]
    },
    {
      "cell_type": "code",
      "execution_count": null,
      "metadata": {
        "colab": {
          "base_uri": "https://localhost:8080/",
          "height": 1000
        },
        "id": "fwbgWDwMRAMs",
        "outputId": "a71f600c-5f87-4205-8a06-79672ef8d5f5"
      },
      "outputs": [],
      "source": [
        "#  It interpolate the values.\n",
        "#  Uses linear interpolation.\n",
        "#  It will give u aggrigate or approx value between two endpoints.\n",
        "\n",
        "df_new = df.interpolate()\n",
        "df_new"
      ]
    },
    {
      "cell_type": "code",
      "execution_count": null,
      "metadata": {
        "colab": {
          "base_uri": "https://localhost:8080/",
          "height": 301
        },
        "id": "d364YGdeRNJh",
        "outputId": "e481ea45-a03b-4587-d916-7413d8f4b15a"
      },
      "outputs": [],
      "source": [
        "# It will drop entire row who having null cell present\n",
        "df_new = df.dropna()\n",
        "df_new"
      ]
    },
    {
      "cell_type": "code",
      "execution_count": null,
      "metadata": {
        "colab": {
          "base_uri": "https://localhost:8080/",
          "height": 1000
        },
        "id": "BioF9u-TRS2c",
        "outputId": "6bfd2182-469d-414e-95e7-9608a05f7b55"
      },
      "outputs": [],
      "source": [
        "# It will drop entire row who having all cell as a null.\n",
        "df_new = df.dropna(how='all')\n",
        "df_new"
      ]
    },
    {
      "cell_type": "code",
      "execution_count": null,
      "metadata": {
        "colab": {
          "base_uri": "https://localhost:8080/",
          "height": 1000
        },
        "id": "t5muroh1Ri40",
        "outputId": "e0fe1969-9449-4c6b-c1d5-ed5d4df732db"
      },
      "outputs": [],
      "source": [
        "# It will drop entire row if it has at least 1 null value.\n",
        "df_new = df.dropna(thresh=1)\n",
        "df_new"
      ]
    }
  ],
  "metadata": {
    "colab": {
      "collapsed_sections": [],
      "name": "DS_Assign2.ipynb",
      "provenance": []
    },
    "kernelspec": {
      "display_name": "Python 3",
      "name": "python3"
    },
    "language_info": {
      "name": "python",
      "version": "3.9.6"
    }
  },
  "nbformat": 4,
  "nbformat_minor": 0
}
